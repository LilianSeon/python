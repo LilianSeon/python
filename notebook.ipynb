{
 "cells": [
  {
   "cell_type": "code",
   "execution_count": null,
   "metadata": {},
   "outputs": [],
   "source": [
    "#Compte Bancaire\n",
    "\n",
    "class CompteBancaire:\n",
    "    def __init__(self, nom=\"Dupond\", solde=1000):\n",
    "        self.nom = nom\n",
    "        self.solde = solde\n",
    "    def depot(self, somme):\n",
    "        self.solde = self.solde + somme\n",
    "    def retrait(self, somme):\n",
    "        if(somme > self.solde):\n",
    "            print(\"Solde insuffisant\")\n",
    "        else:\n",
    "            self.solde = self.solde - somme\n",
    "    def affiche(self):\n",
    "        nom = self.nom\n",
    "        solde = self.solde\n",
    "        text = \"Le solde du compte bancaire de {} est de {}€\"\n",
    "        print(text.format(nom, solde))\n",
    "\n",
    "compte1 = CompteBancaire(\"Duchmol\", 1000)\n",
    "compte1.depot(350)\n",
    "compte1.retrait(200)\n",
    "compte1.affiche() "
   ]
  },
  {
   "cell_type": "code",
   "execution_count": 4,
   "metadata": {},
   "outputs": [
    {
     "name": "stdout",
     "output_type": "stream",
     "text": [
      "P(2.56, -3)\n",
      "P(2, 3)\n"
     ]
    }
   ],
   "source": [
    "#La surcharge d'opérateur\n",
    "\n",
    "class Point:\n",
    "    def __init__(self, x, y, z = False):\n",
    "        self.x = x\n",
    "        self.y = y\n",
    "        self.z = z\n",
    "    def ToString(self):\n",
    "        if(self.z == False):\n",
    "            txt = \"P({}, {})\"\n",
    "            print(txt.format(round(self.x,2), round(self.y,2)))\n",
    "        else:\n",
    "            txt = \"P({}, {}, {})\"\n",
    "            print(txt.format(round(self.x,2), round(self.y,2), round(self.z,2)))\n",
    "\n",
    "P1=Point(2.5555,-3)\n",
    "P1.ToString()\n",
    "\n",
    "P2=Point(2,3)\n",
    "P2.ToString()"
   ]
  },
  {
   "cell_type": "code",
   "execution_count": null,
   "metadata": {},
   "outputs": [],
   "source": [
    "#L'héritage simple\n",
    "\n",
    "class DateNaissance:\n",
    "    def __init__(self, jour, mois, anne):\n",
    "        self.jour = jour\n",
    "        self.mois = mois\n",
    "        self.anne = anne\n",
    "    def ToString(self):\n",
    "        txt = \"{}/{}/{}\"\n",
    "        return txt.format(self.jour, self.mois, self.anne)\n",
    "\n",
    "class Personne:\n",
    "    def __init__(self, nom, prenom, date):\n",
    "        self.nom = nom\n",
    "        self.prenom = prenom\n",
    "        self.date = date\n",
    "    def Affichage(self):\n",
    "        txtNom = \"Nom: {}\"\n",
    "        print(txtNom.format(self.nom))\n",
    "        txtPrenom = \"Prénom: {}\"\n",
    "        print(txtPrenom.format(self.prenom))\n",
    "        txtDate = \"Date de naissance: {}\"\n",
    "        print(txtDate.format(self.date))\n",
    "\n",
    "class Employe(Personne):\n",
    "    def __init__(self, nom, prenom, date, salaire):\n",
    "        self.salaire = salaire\n",
    "        self.nom = nom\n",
    "        self.prenom = prenom\n",
    "        self.date = date\n",
    "    def Affichage(self):\n",
    "        txt = \"Nom: {}\\nPrénom: {}\\nDate de naissance: {}\\nSalairee: {}\"\n",
    "        print(txt.format(self.nom, self.prenom, self.date, self.salaire))\n",
    "\n",
    "class Chef(Employe):\n",
    "    def __init__(self, nom, prenom, date, salaire, service):\n",
    "        self.salaire = salaire\n",
    "        self.nom = nom\n",
    "        self.prenom = prenom\n",
    "        self.date = date\n",
    "        self.service = service\n",
    "    def Affichage(self):\n",
    "            Employe.Affichage(self)\n",
    "            txt = \"Service: {}\"\n",
    "            print(txt.format(self.service))\n",
    "\n",
    "date = DateNaissance(20,12,1997)\n",
    "\n",
    "\n",
    "a = Personne(\"Lilian1\", \"Séon\", date.ToString())\n",
    "a.Affichage()\n",
    "print(\"_____________________\")\n",
    "\n",
    "\n",
    "b = Employe(\"Lilian2\", \"Séon\", date.ToString(), 12000)\n",
    "b.Affichage()\n",
    "print(\"_____________________\")\n",
    "\n",
    "\n",
    "c = Chef(\"Lilian3\", \"Séon\", date.ToString(), 56000, \"Resource Humaine\")\n",
    "c.Affichage()"
   ]
  },
  {
   "cell_type": "code",
   "execution_count": null,
   "metadata": {},
   "outputs": [],
   "source": []
  }
 ],
 "metadata": {
  "kernelspec": {
   "display_name": "Python 3.7.6 64-bit ('ProgramData': virtualenv)",
   "language": "python",
   "name": "python37664bitprogramdatavirtualenvcf0ceab412f54b63b254ae40be9a2648"
  },
  "language_info": {
   "codemirror_mode": {
    "name": "ipython",
    "version": 3
   },
   "file_extension": ".py",
   "mimetype": "text/x-python",
   "name": "python",
   "nbconvert_exporter": "python",
   "pygments_lexer": "ipython3",
   "version": "3.7.6"
  }
 },
 "nbformat": 4,
 "nbformat_minor": 4
}
